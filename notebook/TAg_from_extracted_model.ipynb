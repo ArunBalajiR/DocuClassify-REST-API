{
  "nbformat": 4,
  "nbformat_minor": 0,
  "metadata": {
    "colab": {
      "provenance": []
    },
    "kernelspec": {
      "name": "python3",
      "display_name": "Python 3"
    },
    "language_info": {
      "name": "python"
    }
  },
  "cells": [
    {
      "cell_type": "code",
      "execution_count": 131,
      "metadata": {
        "colab": {
          "base_uri": "https://localhost:8080/"
        },
        "id": "p-Lqx2Eu6gjp",
        "outputId": "48f2cc04-5de3-4ef0-a838-702db4407623"
      },
      "outputs": [
        {
          "output_type": "stream",
          "name": "stderr",
          "text": [
            "/usr/local/lib/python3.8/dist-packages/sklearn/base.py:329: UserWarning: Trying to unpickle estimator LinearSVC from version 0.24.1 when using version 1.0.2. This might lead to breaking code or invalid results. Use at your own risk. For more info please refer to:\n",
            "https://scikit-learn.org/stable/modules/model_persistence.html#security-maintainability-limitations\n",
            "  warnings.warn(\n",
            "/usr/local/lib/python3.8/dist-packages/sklearn/base.py:329: UserWarning: Trying to unpickle estimator LabelBinarizer from version 0.24.1 when using version 1.0.2. This might lead to breaking code or invalid results. Use at your own risk. For more info please refer to:\n",
            "https://scikit-learn.org/stable/modules/model_persistence.html#security-maintainability-limitations\n",
            "  warnings.warn(\n",
            "/usr/local/lib/python3.8/dist-packages/sklearn/base.py:329: UserWarning: Trying to unpickle estimator OneVsRestClassifier from version 0.24.1 when using version 1.0.2. This might lead to breaking code or invalid results. Use at your own risk. For more info please refer to:\n",
            "https://scikit-learn.org/stable/modules/model_persistence.html#security-maintainability-limitations\n",
            "  warnings.warn(\n",
            "/usr/local/lib/python3.8/dist-packages/sklearn/base.py:329: UserWarning: Trying to unpickle estimator TfidfTransformer from version 0.24.1 when using version 1.0.2. This might lead to breaking code or invalid results. Use at your own risk. For more info please refer to:\n",
            "https://scikit-learn.org/stable/modules/model_persistence.html#security-maintainability-limitations\n",
            "  warnings.warn(\n",
            "/usr/local/lib/python3.8/dist-packages/sklearn/base.py:329: UserWarning: Trying to unpickle estimator TfidfVectorizer from version 0.24.1 when using version 1.0.2. This might lead to breaking code or invalid results. Use at your own risk. For more info please refer to:\n",
            "https://scikit-learn.org/stable/modules/model_persistence.html#security-maintainability-limitations\n",
            "  warnings.warn(\n",
            "/usr/local/lib/python3.8/dist-packages/sklearn/base.py:329: UserWarning: Trying to unpickle estimator MultiLabelBinarizer from version 0.24.1 when using version 1.0.2. This might lead to breaking code or invalid results. Use at your own risk. For more info please refer to:\n",
            "https://scikit-learn.org/stable/modules/model_persistence.html#security-maintainability-limitations\n",
            "  warnings.warn(\n"
          ]
        }
      ],
      "source": [
        "import joblib\n",
        "\n",
        "# Load trained model\n",
        "clf = joblib.load('model.joblib')\n",
        "tfidf = joblib.load('tfidf_model.joblib')\n",
        "mlb = joblib.load('mlb_model.joblib')"
      ]
    },
    {
      "cell_type": "code",
      "source": [
        "temporary_list = [\"MIC G36_DEV_PM_QM_FICO_String test scripts_V1.0.xlsx\"]\n",
        "xt = tfidf.transform(temporary_list)\n",
        "# Make prediction\n",
        "y_hat = clf.predict(xt)\n",
        "tags = mlb.inverse_transform(y_hat)\n",
        "tags"
      ],
      "metadata": {
        "colab": {
          "base_uri": "https://localhost:8080/"
        },
        "id": "rmPy--O17Bc4",
        "outputId": "04becb09-290d-41a4-ccce-15fedf3b62b9"
      },
      "execution_count": 133,
      "outputs": [
        {
          "output_type": "execute_result",
          "data": {
            "text/plain": [
              "[('Testing Docs',)]"
            ]
          },
          "metadata": {},
          "execution_count": 133
        }
      ]
    },
    {
      "cell_type": "code",
      "source": [
        "filenames = [\"YBAK_Wave1-Test Strategy and Plan V1.0.docx\",\"hyperlink word.docx\",\"YBAK_Wave 1_CR 01 - SSO V1.0.pdf\",\"check track changes.docx\",\"YBAK_Wave1_SDD-FICO-J58-02_General Journal Voucher Documents_V2.0.pdf\",\"YBAK_Wave1_SDD-FICO-J58-03_GL Accounting - Reset Cleared Items_V2.0.pdf\",\"YBAK_Wave1_SDD-FICO-J58-04_GL Accounting - Recurring Journal Entries_V2.0.pdf\",\"YBAK_Wave1_SDD-FICO-J58-05_GL Accounting - Month-End Closing_V2.0.pdf\",\"YBAK_Wave1_SDD-FICO-J58-06_GL Accounting - Year-End Closing_V2.0.pdf\",\"YBAK_Wave1_SDD-FICO-BEV-01_Internal Order_V2.0.pdf\",\"YBAK_Wave1_SDD-FICO-BFH-01_Asset Accounting - Assets Under Construction_V2.0.pdf\",\"YBAK_Wave1_SDD-FICO-J62-02_Asset Accounting - Asset Acquisition_V2.0.pdf\",\"YBAK_Wave1_SDD-FICO-J62-03_Asset Accounting - Asset Retirement_V2.0.pdf\",\"YBAK_Wave1_SDD-FICO-J62-04_Asset Accounting - Asset Transfer_V2.0.pdf\",\"YBAK_Wave1_SDD-FICO-J62-05_Asset Accounting - Month-End Closing_V2.0.pdf\",\"YBAK_Wave1_SDD-FICO-J62-06_Asset Accounting - Year-End Closing_V2.0.pdf\",\"Explore - Integration SDD Sign off- Wilban.msg\",\"YBAK_Wave1_SDD-INT-ZI1-01-01_JV Posting in B5.docx\",\"Explore Integration SDD B5 Sign off - Wilban approval.pdf\",\"Explore Integration SDD C1 Sign off - Wilban approval.pdf\",\"YBAK_Wave1_SDD-INT-ZI1-01-02_JV Posting in C1.docx\",\"Explore Integration SDD Customer Open Items Sign off - Wilban approval.pdf\",\"YBAK_Wave1_SDD-INT-ZI1-01-04_Customer_Open_Items.docx\",\"YBAK_Wave1_SDD-INT-ZI1-01-05_Supplier_Open_Items.docx\",\"Explore Integration SDD Supplier Open Items Sign off - Wilban approval.pdf\",\"Explore Integration SDD Advance Payment JPIS Sign off - Wilban approval.pdf\",\"YBAK_Wave1_SDD-INT-ZI1-01-03_Advance_Payment_File_To_JPIS.docx\",\"Explore Integration SDD KPI Pending Batch List Request Sign off - Wilban approval.pdf\",\"YBAK_Wave1_SDD-INT-ZI1-01-09_Pending_Batch_List_Request.pdf\",\"YBAK_Wave 1_CR 01 - SSO V2.0.pdf\",\"YBAK_Wave 1_CR 01 - SSO V2.0 - Email Approval from David.pdf\",\"YBAK_Wave1_SDD-FICO-BFA-01_Basic Bank Account Management - Create_Change Bank Master DataV2.0.pdf\",\"YBAK_Wave1_SDD-FICO-BFA-02_Basic Bank Account Management - Outgoing PaymentsV2.0.pdf\",\"YBAK_Wave1_SDD-FICO-BFA-03_Basic Bank Account Management - Incoming Bank StatementV2.0.pdf\",\"YBAK_Wave1_SDD-FICO-J60-05_Accounts Payable - Withholding Tax_V2.0.pdf\",\"YBAK_Wave1_SDD-FICO-J60-04_Accounts Payable - Down Payment_V2.0.pdf\",\"YBAK_Wave1_SDD-FICO-J60-03_Accounts Payable - Reset of Clearing document_V2.0.pdf\",\"YBAK_Wave1_SDD-FICO-J60-02_Accounts Payable - Vendor Invoice and Payment_V2.0.pdf\",\"YBAK_Wave1_SDD-FICO-J59-03_Accounts Receivable -Periodic Activities_V2.0.pdf\",\"YBAK_Wave1_SDD-FICO-J59-02_Accounts Receivable - Invoice and Payment Processing_V2.0.pdf\",\"YBAK_Wave1_SDD-FICO-BD6-01_Basic Credit Management_V2.0.pdf\",\"YBAK_Wave1_SDD-FICO-1GO-01_Cash Journal_V2.0.pdf\",\"Explore Integration SDD Sign off.pdf\",\"YBAK_Wave1_SDD-INT-ZI1-01-08_Symphony_Currency_Rate.docx\",\"YBAK_Wave1_SDD-INT-ZI1-01-12_Payment_Batch_Confirmation.docx\",\"YBAK_Wave1_SDD-INT-ZI1-01-13_Credit_Limit_File_To_JPIS.docx\",\"YBAK_Wave1_SDD-INT-ZI1-01-11_Payment_Batch_Status.docx\",\"YBAK_Wave1_SDD-INT-ZI1-01-10_Payment_Data_Request.docx\",\"YBAK_Wave1_SDD-INT-ZI1-01-14_Symphony_Customer_Credit_Information.docx\",\"YBAK_Wave1_SDD-INT-ZI1-01-15_Symphony_AP Open Items.docx\",\"YBAK_Wave1_SDD-INT-ZI1-01-16_17_Symphony_One_Off_Credit.docx\",\"YBAK_Wave1_SDD-INT-ZI1-01-09_Pending_Batch_List_Request.docx\",\"YBAK_Wave1_SDD-INT-ZI1-01-18_Symphony_One_Off_Credit_Details.docx\",\"YBAK_Wave1_SDD-INT-ZI1-01-03_Advance_Payment_File_To_JPIS.docx\",\"YBAK_Wave1_SDD-INT-ZI1-01-01_JV Posting in B5.docx\",\"YBAK_Wave1_SDD-INT-ZI1-01-07_Symphony_Customer_Supplier Payments.docx\",\"YBAK_Wave1_SDD-INT-ZI1-01-06_Symphony_AR Open Items.docx\",\"YBAK_Wave1_SDD-INT-ZI1-01-04_Customer_Open_Items.docx\",\"YBAK_Wave1_SDD-INT-ZI1-01-02_JV Posting in C1.docx\",\"YBAK_Wave1_SDD-INT-ZI1-01-05_Supplier_Open_Items.docx\",\"YBAK_Wave1_SDD-FICO-2PD-01_Provisioning of Overdue Receivables_V2.0.pdf\",\"YBAK_Wave1_SDD-FICO-2QL-01_Universal Allocation_V2.0.pdf\",\"YBAK_Wave1_SDD-SAC Planning V2.0.pdf\",\"Email-Approval.pdf\",\"YBAK_Wave1_SDD-FICO-1J2-01_Business Tax Scenarios_V2.0.pdf\",\"FICO Non-Tax FRS List (Signoff).xlsx\",\"YBAK_Wave1_FRS_BL_FI_23_Customer Credit Memo_V2.0.docx\",\"YBAK_Wave1_FRS_BL_FI_26_Check Print& Payment Advice form_Saudi_British bank_V2.0.docx\",\"YBAK_Wave1_FRS_BL_FI_24_Cash Summary Report_V2.0.docx\",\"YBAK_Wave1_FRS_BL_FI_29_Check PrintPayment Advice form_Procash_V2.0.docx\",\"YBAK_Wave1_FRS_BL_FI_25_Check Print&Payment Advice form_UAE_V2.0.docx\",\"YBAK_Wave1_FRS_BL_FI_33_Bank Statement Detailed line item Report_V2.0.docx\",\"YBAK_Wave1_FRS_BL_FI_31_Customer Statement Report_V2.0.docx\",\"YBAK_Wave1_FRS_BL_FI_28_Check Print&Payment Advice form_Bahrain_V2.0.docx\",\"YBAK_Wave1_FRS_BL_FI_27_Check Print&Payment Advice form_Oman_V2.0.docx\",\"YBAK_Wave1_FRS_BL_FI_30_Check PrintPayment Advice form_NCB Dammam_V2.0.docx\",\"FICO Non-Tax FRS List (Signoff).zip\",\"YBAK_Wave1_FRS_BL_FI_35_VAT Report AP Credit Memo_V1.0.docx\",\"YBAK_Wave1_FRS_BL_FI_20_VAT Report AR_V2.0.docx\",\"YBAK_Wave1_FRS_BL_FI_19_VAT Report AP_V2.0.docx\",\"YBAK_Wave1_FRS_BL_FI_05_Withholding Tax report_V2.0.docx\",\"YBAK_Wave1_FRS_BL_FI_36_VAT Report AR Credit Memo_V1.0.docx\",\"YBAK_Wave1_FRS_BL_FI_36_VAT Report AR Credit Memo_V2.docx\",\"YBAK_Wave1_FRS_BL_FI_35_VAT Report AP Credit Memo_V2.0.docx\",\"YBAK_Wave1_FRS_BL_FI_35_VAT Report AP Credit Memo_V2.0.docx\",\"YBAK_Wave1_FRS_BL_FI_36_VAT Report AR Credit Memo_V2.0.docx\",\"FICO Non-Tax FRS List (Signoff) 7 Dec 2021.xlsx\",\"FICO Non-Tax FRS List (Signoff) 7 Dec 2021.zip\",\"YBAK_Wave 1_SDD-Group Reporting V2.0.pdf\",\"Integration FRS_Version 1.1.zip\",\"2PD Signoff Acceptance.pdf\",\"YBAK_Wave1_SDD-FICO-2PD-01_Provisioning of Overdue Receivables_V1.0 (1).docx\",\"2PD Signoff Acceptance.pdf\",\"YBAK_Wave1_SDD-FICO-2PD-01_Provisioning of Overdue Receivables_V2.1.pdf\",\"YBAK SDD - HR Dashboard  V1.2 .pdf\",\"YBAK SDD - HR Dashboard  V1.2 Final.docx\",\"YBAK SDD - FI Dashboard_V1.2.pdf\",\"YBAK SDD - FI Dashboard_V1.2.docx\",\"YBAK_SDD_PLANNING - PL V1.6.docx\"\n",
        "]"
      ],
      "metadata": {
        "id": "gK4tO_CgFt2_"
      },
      "execution_count": 128,
      "outputs": []
    },
    {
      "cell_type": "code",
      "source": [
        "\n",
        "xt = tfidf.transform(filenames)\n",
        "# Make prediction\n",
        "y_hat = clf.predict(xt)\n",
        "tags = mlb.inverse_transform(y_hat)\n",
        "tags = [list(t) for t in tags]\n",
        "\n",
        "lobs = ['CO', 'EHSM', 'FI', 'FICO', 'HCM', 'MHD', 'MM', 'OM', 'PM', 'PP', 'QM', 'SCM', 'SD']\n",
        "\n",
        "# filter tags based on lobs list\n",
        "filtered_lobs = [list(set(t).intersection(lobs)) for t in tags]\n",
        "filtered_lobs = [['General'] if not t else t for t in filtered_lobs]\n"
      ],
      "metadata": {
        "id": "rMhVxfdYF2GC"
      },
      "execution_count": 129,
      "outputs": []
    },
    {
      "cell_type": "code",
      "source": [
        "filtered_lobs\n"
      ],
      "metadata": {
        "id": "d0FHBodtPBf6"
      },
      "execution_count": null,
      "outputs": []
    },
    {
      "cell_type": "code",
      "source": [
        "import pandas as pd\n",
        "df = pd.DataFrame({'filenames': filenames})\n",
        "for i in range(len(tags)):\n",
        "    if tags[i] == ['General']:\n",
        "        tags[i] = ['Misc']\n",
        "\n",
        "df['tags'] = tags\n",
        "df['lobs'] = filtered_lobs\n",
        "df.to_excel('ybak-ss4i.xlsx', index=False)\n",
        "df"
      ],
      "metadata": {
        "colab": {
          "base_uri": "https://localhost:8080/",
          "height": 424
        },
        "id": "rDw-LKYwHUtY",
        "outputId": "fc3a7a23-48c0-4e68-8cfd-fe019b766bac"
      },
      "execution_count": 130,
      "outputs": [
        {
          "output_type": "execute_result",
          "data": {
            "text/plain": [
              "                                            filenames             tags  \\\n",
              "0         YBAK_Wave1-Test Strategy and Plan V1.0.docx   [Testing Docs]   \n",
              "1                                 hyperlink word.docx               []   \n",
              "2                    YBAK_Wave 1_CR 01 - SSO V1.0.pdf            [SDD]   \n",
              "3                            check track changes.docx               []   \n",
              "4   YBAK_Wave1_SDD-FICO-J58-02_General Journal Vou...  [FICO, General]   \n",
              "..                                                ...              ...   \n",
              "94                 YBAK SDD - HR Dashboard  V1.2 .pdf            [SDD]   \n",
              "95           YBAK SDD - HR Dashboard  V1.2 Final.docx            [SDD]   \n",
              "96                   YBAK SDD - FI Dashboard_V1.2.pdf            [SDD]   \n",
              "97                  YBAK SDD - FI Dashboard_V1.2.docx            [SDD]   \n",
              "98                   YBAK_SDD_PLANNING - PL V1.6.docx               []   \n",
              "\n",
              "         lobs  \n",
              "0   [General]  \n",
              "1   [General]  \n",
              "2   [General]  \n",
              "3   [General]  \n",
              "4      [FICO]  \n",
              "..        ...  \n",
              "94  [General]  \n",
              "95  [General]  \n",
              "96  [General]  \n",
              "97  [General]  \n",
              "98  [General]  \n",
              "\n",
              "[99 rows x 3 columns]"
            ],
            "text/html": [
              "\n",
              "  <div id=\"df-49f2d4d4-5465-4035-a461-bdb4a583f9d4\">\n",
              "    <div class=\"colab-df-container\">\n",
              "      <div>\n",
              "<style scoped>\n",
              "    .dataframe tbody tr th:only-of-type {\n",
              "        vertical-align: middle;\n",
              "    }\n",
              "\n",
              "    .dataframe tbody tr th {\n",
              "        vertical-align: top;\n",
              "    }\n",
              "\n",
              "    .dataframe thead th {\n",
              "        text-align: right;\n",
              "    }\n",
              "</style>\n",
              "<table border=\"1\" class=\"dataframe\">\n",
              "  <thead>\n",
              "    <tr style=\"text-align: right;\">\n",
              "      <th></th>\n",
              "      <th>filenames</th>\n",
              "      <th>tags</th>\n",
              "      <th>lobs</th>\n",
              "    </tr>\n",
              "  </thead>\n",
              "  <tbody>\n",
              "    <tr>\n",
              "      <th>0</th>\n",
              "      <td>YBAK_Wave1-Test Strategy and Plan V1.0.docx</td>\n",
              "      <td>[Testing Docs]</td>\n",
              "      <td>[General]</td>\n",
              "    </tr>\n",
              "    <tr>\n",
              "      <th>1</th>\n",
              "      <td>hyperlink word.docx</td>\n",
              "      <td>[]</td>\n",
              "      <td>[General]</td>\n",
              "    </tr>\n",
              "    <tr>\n",
              "      <th>2</th>\n",
              "      <td>YBAK_Wave 1_CR 01 - SSO V1.0.pdf</td>\n",
              "      <td>[SDD]</td>\n",
              "      <td>[General]</td>\n",
              "    </tr>\n",
              "    <tr>\n",
              "      <th>3</th>\n",
              "      <td>check track changes.docx</td>\n",
              "      <td>[]</td>\n",
              "      <td>[General]</td>\n",
              "    </tr>\n",
              "    <tr>\n",
              "      <th>4</th>\n",
              "      <td>YBAK_Wave1_SDD-FICO-J58-02_General Journal Vou...</td>\n",
              "      <td>[FICO, General]</td>\n",
              "      <td>[FICO]</td>\n",
              "    </tr>\n",
              "    <tr>\n",
              "      <th>...</th>\n",
              "      <td>...</td>\n",
              "      <td>...</td>\n",
              "      <td>...</td>\n",
              "    </tr>\n",
              "    <tr>\n",
              "      <th>94</th>\n",
              "      <td>YBAK SDD - HR Dashboard  V1.2 .pdf</td>\n",
              "      <td>[SDD]</td>\n",
              "      <td>[General]</td>\n",
              "    </tr>\n",
              "    <tr>\n",
              "      <th>95</th>\n",
              "      <td>YBAK SDD - HR Dashboard  V1.2 Final.docx</td>\n",
              "      <td>[SDD]</td>\n",
              "      <td>[General]</td>\n",
              "    </tr>\n",
              "    <tr>\n",
              "      <th>96</th>\n",
              "      <td>YBAK SDD - FI Dashboard_V1.2.pdf</td>\n",
              "      <td>[SDD]</td>\n",
              "      <td>[General]</td>\n",
              "    </tr>\n",
              "    <tr>\n",
              "      <th>97</th>\n",
              "      <td>YBAK SDD - FI Dashboard_V1.2.docx</td>\n",
              "      <td>[SDD]</td>\n",
              "      <td>[General]</td>\n",
              "    </tr>\n",
              "    <tr>\n",
              "      <th>98</th>\n",
              "      <td>YBAK_SDD_PLANNING - PL V1.6.docx</td>\n",
              "      <td>[]</td>\n",
              "      <td>[General]</td>\n",
              "    </tr>\n",
              "  </tbody>\n",
              "</table>\n",
              "<p>99 rows × 3 columns</p>\n",
              "</div>\n",
              "      <button class=\"colab-df-convert\" onclick=\"convertToInteractive('df-49f2d4d4-5465-4035-a461-bdb4a583f9d4')\"\n",
              "              title=\"Convert this dataframe to an interactive table.\"\n",
              "              style=\"display:none;\">\n",
              "        \n",
              "  <svg xmlns=\"http://www.w3.org/2000/svg\" height=\"24px\"viewBox=\"0 0 24 24\"\n",
              "       width=\"24px\">\n",
              "    <path d=\"M0 0h24v24H0V0z\" fill=\"none\"/>\n",
              "    <path d=\"M18.56 5.44l.94 2.06.94-2.06 2.06-.94-2.06-.94-.94-2.06-.94 2.06-2.06.94zm-11 1L8.5 8.5l.94-2.06 2.06-.94-2.06-.94L8.5 2.5l-.94 2.06-2.06.94zm10 10l.94 2.06.94-2.06 2.06-.94-2.06-.94-.94-2.06-.94 2.06-2.06.94z\"/><path d=\"M17.41 7.96l-1.37-1.37c-.4-.4-.92-.59-1.43-.59-.52 0-1.04.2-1.43.59L10.3 9.45l-7.72 7.72c-.78.78-.78 2.05 0 2.83L4 21.41c.39.39.9.59 1.41.59.51 0 1.02-.2 1.41-.59l7.78-7.78 2.81-2.81c.8-.78.8-2.07 0-2.86zM5.41 20L4 18.59l7.72-7.72 1.47 1.35L5.41 20z\"/>\n",
              "  </svg>\n",
              "      </button>\n",
              "      \n",
              "  <style>\n",
              "    .colab-df-container {\n",
              "      display:flex;\n",
              "      flex-wrap:wrap;\n",
              "      gap: 12px;\n",
              "    }\n",
              "\n",
              "    .colab-df-convert {\n",
              "      background-color: #E8F0FE;\n",
              "      border: none;\n",
              "      border-radius: 50%;\n",
              "      cursor: pointer;\n",
              "      display: none;\n",
              "      fill: #1967D2;\n",
              "      height: 32px;\n",
              "      padding: 0 0 0 0;\n",
              "      width: 32px;\n",
              "    }\n",
              "\n",
              "    .colab-df-convert:hover {\n",
              "      background-color: #E2EBFA;\n",
              "      box-shadow: 0px 1px 2px rgba(60, 64, 67, 0.3), 0px 1px 3px 1px rgba(60, 64, 67, 0.15);\n",
              "      fill: #174EA6;\n",
              "    }\n",
              "\n",
              "    [theme=dark] .colab-df-convert {\n",
              "      background-color: #3B4455;\n",
              "      fill: #D2E3FC;\n",
              "    }\n",
              "\n",
              "    [theme=dark] .colab-df-convert:hover {\n",
              "      background-color: #434B5C;\n",
              "      box-shadow: 0px 1px 3px 1px rgba(0, 0, 0, 0.15);\n",
              "      filter: drop-shadow(0px 1px 2px rgba(0, 0, 0, 0.3));\n",
              "      fill: #FFFFFF;\n",
              "    }\n",
              "  </style>\n",
              "\n",
              "      <script>\n",
              "        const buttonEl =\n",
              "          document.querySelector('#df-49f2d4d4-5465-4035-a461-bdb4a583f9d4 button.colab-df-convert');\n",
              "        buttonEl.style.display =\n",
              "          google.colab.kernel.accessAllowed ? 'block' : 'none';\n",
              "\n",
              "        async function convertToInteractive(key) {\n",
              "          const element = document.querySelector('#df-49f2d4d4-5465-4035-a461-bdb4a583f9d4');\n",
              "          const dataTable =\n",
              "            await google.colab.kernel.invokeFunction('convertToInteractive',\n",
              "                                                     [key], {});\n",
              "          if (!dataTable) return;\n",
              "\n",
              "          const docLinkHtml = 'Like what you see? Visit the ' +\n",
              "            '<a target=\"_blank\" href=https://colab.research.google.com/notebooks/data_table.ipynb>data table notebook</a>'\n",
              "            + ' to learn more about interactive tables.';\n",
              "          element.innerHTML = '';\n",
              "          dataTable['output_type'] = 'display_data';\n",
              "          await google.colab.output.renderOutput(dataTable, element);\n",
              "          const docLink = document.createElement('div');\n",
              "          docLink.innerHTML = docLinkHtml;\n",
              "          element.appendChild(docLink);\n",
              "        }\n",
              "      </script>\n",
              "    </div>\n",
              "  </div>\n",
              "  "
            ]
          },
          "metadata": {},
          "execution_count": 130
        }
      ]
    },
    {
      "cell_type": "code",
      "source": [
        "[\"arun\",\"balaji\"].toString()\n"
      ],
      "metadata": {
        "colab": {
          "base_uri": "https://localhost:8080/",
          "height": 165
        },
        "id": "YLZrAVJ6HcaV",
        "outputId": "81137ea8-97d5-4838-9da0-3ff3afdb724d"
      },
      "execution_count": 49,
      "outputs": [
        {
          "output_type": "error",
          "ename": "AttributeError",
          "evalue": "ignored",
          "traceback": [
            "\u001b[0;31m---------------------------------------------------------------------------\u001b[0m",
            "\u001b[0;31mAttributeError\u001b[0m                            Traceback (most recent call last)",
            "\u001b[0;32m<ipython-input-49-ea51ddf75db1>\u001b[0m in \u001b[0;36m<module>\u001b[0;34m\u001b[0m\n\u001b[0;32m----> 1\u001b[0;31m \u001b[0;34m[\u001b[0m\u001b[0;34m\"arun\"\u001b[0m\u001b[0;34m,\u001b[0m\u001b[0;34m\"balaji\"\u001b[0m\u001b[0;34m]\u001b[0m\u001b[0;34m.\u001b[0m\u001b[0mtoString\u001b[0m\u001b[0;34m(\u001b[0m\u001b[0;34m)\u001b[0m\u001b[0;34m\u001b[0m\u001b[0;34m\u001b[0m\u001b[0m\n\u001b[0m",
            "\u001b[0;31mAttributeError\u001b[0m: 'list' object has no attribute 'toString'"
          ]
        }
      ]
    },
    {
      "cell_type": "code",
      "source": [
        "from google.colab import drive\n",
        "drive.mount('/content/drive')"
      ],
      "metadata": {
        "id": "GOtOPz0kBchl"
      },
      "execution_count": null,
      "outputs": []
    },
    {
      "cell_type": "code",
      "source": [
        "categories = ['CO', 'EHSM', 'FI', 'FICO', 'HCM', 'MHD', 'MM', 'OM', 'PM', 'PP', 'QM', 'SCM', 'SD']\n",
        "\n",
        "def get_tags(filename):\n",
        "    tags = []\n",
        "    for category in categories:\n",
        "        if category in filename:\n",
        "            tags.append(category)\n",
        "    return tags\n",
        "\n",
        "# Example usage:\n",
        "filenames = ['MHD PP_MM_QM_SD_FI_CO_EHSM_PM dated 1.pdf',\n",
        "             'MHD PP_MM_QM_SD_FI dated 8.pdf',\n",
        "             'SOS LLC_EHSM_2OY-04_Define Company structure for SOS_V1.0.20200808.docx',\n",
        "             'G36 CO Roles and authorization email proof.pdf',\n",
        "             'SSB-MM-BL1-SCM-103.docx',\n",
        "             'Re FICO Open data for Production (Live) system.msg',\n",
        "             'MIC_G36_PM_User Manual_Building Maintenance.pdf']\n",
        "\n",
        "for filename in filenames:\n",
        "    tags = get_tags(filename)\n",
        "    print(f\"filename: {filename}\")\n",
        "    print(f\"tags: {', '.join(tags)}\\n\")\n"
      ],
      "metadata": {
        "colab": {
          "base_uri": "https://localhost:8080/"
        },
        "id": "XimAJzZODdGB",
        "outputId": "b9403716-4b32-4d1a-d282-71ad638e1c76"
      },
      "execution_count": 2,
      "outputs": [
        {
          "output_type": "stream",
          "name": "stdout",
          "text": [
            "filename: MHD PP_MM_QM_SD_FI_CO_EHSM_PM dated 1.pdf\n",
            "tags: CO, EHSM, FI, MHD, MM, PM, PP, QM, SD\n",
            "\n",
            "filename: MHD PP_MM_QM_SD_FI dated 8.pdf\n",
            "tags: FI, MHD, MM, PP, QM, SD\n",
            "\n",
            "filename: SOS LLC_EHSM_2OY-04_Define Company structure for SOS_V1.0.20200808.docx\n",
            "tags: EHSM\n",
            "\n",
            "filename: G36 CO Roles and authorization email proof.pdf\n",
            "tags: CO\n",
            "\n",
            "filename: SSB-MM-BL1-SCM-103.docx\n",
            "tags: MM, SCM\n",
            "\n",
            "filename: Re FICO Open data for Production (Live) system.msg\n",
            "tags: CO, FI, FICO\n",
            "\n",
            "filename: MIC_G36_PM_User Manual_Building Maintenance.pdf\n",
            "tags: PM\n",
            "\n"
          ]
        }
      ]
    },
    {
      "cell_type": "code",
      "source": [
        "import nltk\n",
        "nltk.download('punkt')\n",
        "nltk.download('averaged_perceptron_tagger')"
      ],
      "metadata": {
        "colab": {
          "base_uri": "https://localhost:8080/"
        },
        "id": "BscctSfjEHiZ",
        "outputId": "562189e9-9f2d-4373-87e4-2bc80dffd6c9"
      },
      "execution_count": 7,
      "outputs": [
        {
          "output_type": "stream",
          "name": "stderr",
          "text": [
            "[nltk_data] Downloading package punkt to /root/nltk_data...\n",
            "[nltk_data]   Package punkt is already up-to-date!\n",
            "[nltk_data] Downloading package averaged_perceptron_tagger to\n",
            "[nltk_data]     /root/nltk_data...\n",
            "[nltk_data]   Unzipping taggers/averaged_perceptron_tagger.zip.\n"
          ]
        },
        {
          "output_type": "execute_result",
          "data": {
            "text/plain": [
              "True"
            ]
          },
          "metadata": {},
          "execution_count": 7
        }
      ]
    },
    {
      "cell_type": "code",
      "source": [
        "\n"
      ],
      "metadata": {
        "colab": {
          "base_uri": "https://localhost:8080/"
        },
        "id": "rCyCmmbvEAux",
        "outputId": "922d3257-e673-49bc-8b51-ac5166f1d201"
      },
      "execution_count": 8,
      "outputs": [
        {
          "output_type": "stream",
          "name": "stdout",
          "text": [
            "{'MHD'}\n"
          ]
        }
      ]
    }
  ]
}